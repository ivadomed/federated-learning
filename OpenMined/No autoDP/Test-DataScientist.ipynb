{
 "cells": [
  {
   "cell_type": "markdown",
   "id": "8e20fd36-5728-4c43-9d50-b791ad57e79a",
   "metadata": {},
   "source": [
    "# Test notebook for no automated Differential Privacy (DP) data type\n",
    "## Data Scientist\n",
    "### syft version: 0.6.0"
   ]
  },
  {
   "cell_type": "code",
   "execution_count": 1,
   "id": "d735dee7-6b0a-4c38-8ff6-65347301a17b",
   "metadata": {},
   "outputs": [
    {
     "name": "stdout",
     "output_type": "stream",
     "text": [
      "0.6.0\n"
     ]
    }
   ],
   "source": [
    "import syft as sy\n",
    "print(sy.__version__)\n",
    "import torch\n",
    "import numpy as np"
   ]
  },
  {
   "cell_type": "markdown",
   "id": "d75fe844-9fed-410c-bf6f-9edddc5ea533",
   "metadata": {},
   "source": [
    "**DS: login to DO's domain node**"
   ]
  },
  {
   "cell_type": "code",
   "execution_count": 2,
   "id": "ef5ed79a-0054-4453-9deb-97a8432e3c39",
   "metadata": {},
   "outputs": [
    {
     "name": "stdout",
     "output_type": "stream",
     "text": [
      "Connecting to 192.168.0.77... done! \t Logging into free_node... done!\n"
     ]
    }
   ],
   "source": [
    "ds_client = sy.login(\n",
    "    # url=\"http://96.20.213.92\",\n",
    "    url = \"192.168.0.77\",\n",
    "    email=\"shu00.song@gmail.com\",\n",
    "    password=\"1234\",\n",
    "    port=8081\n",
    ")"
   ]
  },
  {
   "cell_type": "markdown",
   "id": "1e017b74-092f-45f0-9246-5a580934675a",
   "metadata": {},
   "source": [
    "**Look for available datasets**"
   ]
  },
  {
   "cell_type": "code",
   "execution_count": 3,
   "id": "586f0616-d1b4-4a94-9bad-d17aebfda7ad",
   "metadata": {},
   "outputs": [
    {
     "data": {
      "text/html": [
       "<div>\n",
       "<style scoped>\n",
       "    .dataframe tbody tr th:only-of-type {\n",
       "        vertical-align: middle;\n",
       "    }\n",
       "\n",
       "    .dataframe tbody tr th {\n",
       "        vertical-align: top;\n",
       "    }\n",
       "\n",
       "    .dataframe thead th {\n",
       "        text-align: right;\n",
       "    }\n",
       "</style>\n",
       "<table border=\"1\" class=\"dataframe\">\n",
       "  <thead>\n",
       "    <tr style=\"text-align: right;\">\n",
       "      <th></th>\n",
       "      <th>ID</th>\n",
       "      <th>Tags</th>\n",
       "      <th>Description</th>\n",
       "      <th>object_type</th>\n",
       "    </tr>\n",
       "  </thead>\n",
       "  <tbody>\n",
       "    <tr>\n",
       "      <th>0</th>\n",
       "      <td>&lt;UID: a2e30a3b528b4ff898053bf7f6ea84dd&gt;</td>\n",
       "      <td>[]</td>\n",
       "      <td></td>\n",
       "      <td>&lt;class 'torch.Tensor'&gt;</td>\n",
       "    </tr>\n",
       "  </tbody>\n",
       "</table>\n",
       "</div>"
      ],
      "text/plain": [
       "                                        ID Tags Description  \\\n",
       "0  <UID: a2e30a3b528b4ff898053bf7f6ea84dd>   []               \n",
       "\n",
       "              object_type  \n",
       "0  <class 'torch.Tensor'>  "
      ]
     },
     "execution_count": 3,
     "metadata": {},
     "output_type": "execute_result"
    }
   ],
   "source": [
    "ds_client.store.pandas"
   ]
  },
  {
   "cell_type": "code",
   "execution_count": 4,
   "id": "d4bb6cc3-1daf-4faf-bb15-de1356df15a4",
   "metadata": {},
   "outputs": [
    {
     "data": {
      "text/html": [
       "(no datasets found)"
      ],
      "text/plain": [
       "<syft.core.node.common.client_manager.dataset_api.DatasetRequestAPI at 0x7f48dcc4ba60>"
      ]
     },
     "execution_count": 4,
     "metadata": {},
     "output_type": "execute_result"
    }
   ],
   "source": [
    "ds_client.datasets # Doesn't work for not autoDP data"
   ]
  },
  {
   "cell_type": "code",
   "execution_count": 8,
   "id": "ad56420c-f93d-4af5-bc95-66282cd9dc57",
   "metadata": {},
   "outputs": [
    {
     "name": "stdout",
     "output_type": "stream",
     "text": [
      "<TensorPointer -> free_node:a2e30a3b528b4ff898053bf7f6ea84dd>\n"
     ]
    }
   ],
   "source": [
    "data_th_ptr = ds_client.store[0] \n",
    "print(data_th_ptr)"
   ]
  },
  {
   "cell_type": "code",
   "execution_count": 10,
   "id": "2c9782f1-fe29-4152-aa20-960a3390e3ba",
   "metadata": {},
   "outputs": [
    {
     "name": "stdout",
     "output_type": "stream",
     "text": [
      "<TensorPointer -> free_node:c76bd8358346445c849b2653b8b0fa54>\n"
     ]
    }
   ],
   "source": [
    "average = data_th_ptr.float().mean() # Works on torch tensors\n",
    "print(average)"
   ]
  },
  {
   "cell_type": "code",
   "execution_count": 11,
   "id": "d2ba8c72-970f-4be4-bb90-474b65eb6b67",
   "metadata": {},
   "outputs": [
    {
     "name": "stderr",
     "output_type": "stream",
     "text": [
      "[2022-06-22T16:31:30.849525-0400][CRITICAL][logger]][14047] You do not have permission to .get() Object with ID: <UID: c76bd8358346445c849b2653b8b0fa54> on node free_node Please submit a request.\n"
     ]
    },
    {
     "ename": "AuthorizationException",
     "evalue": "You do not have permission to .get() Object with ID: <UID: c76bd8358346445c849b2653b8b0fa54> on node free_node Please submit a request.",
     "output_type": "error",
     "traceback": [
      "\u001b[0;31m---------------------------------------------------------------------------\u001b[0m",
      "\u001b[0;31mAuthorizationException\u001b[0m                    Traceback (most recent call last)",
      "Input \u001b[0;32mIn [11]\u001b[0m, in \u001b[0;36m<cell line: 1>\u001b[0;34m()\u001b[0m\n\u001b[0;32m----> 1\u001b[0m \u001b[43maverage\u001b[49m\u001b[38;5;241;43m.\u001b[39;49m\u001b[43mget\u001b[49m\u001b[43m(\u001b[49m\u001b[43m)\u001b[49m\n",
      "File \u001b[0;32m~/anaconda3/envs/syft_env2/lib/python3.9/site-packages/syft/core/pointer/pointer.py:344\u001b[0m, in \u001b[0;36mPointer.get\u001b[0;34m(self, request_block, timeout_secs, reason, delete_obj, verbose)\u001b[0m\n\u001b[1;32m    339\u001b[0m     \u001b[38;5;28;01mraise\u001b[39;00m \u001b[38;5;167;01mReferenceError\u001b[39;00m(\n\u001b[1;32m    340\u001b[0m         \u001b[38;5;124m\"\u001b[39m\u001b[38;5;124mObject has already been deleted. This pointer is exhausted\u001b[39m\u001b[38;5;124m\"\u001b[39m\n\u001b[1;32m    341\u001b[0m     )\n\u001b[1;32m    343\u001b[0m \u001b[38;5;28;01mif\u001b[39;00m \u001b[38;5;129;01mnot\u001b[39;00m request_block:\n\u001b[0;32m--> 344\u001b[0m     result \u001b[38;5;241m=\u001b[39m \u001b[38;5;28;43mself\u001b[39;49m\u001b[38;5;241;43m.\u001b[39;49m\u001b[43m_get\u001b[49m\u001b[43m(\u001b[49m\u001b[43mdelete_obj\u001b[49m\u001b[38;5;241;43m=\u001b[39;49m\u001b[43mdelete_obj\u001b[49m\u001b[43m,\u001b[49m\u001b[43m \u001b[49m\u001b[43mverbose\u001b[49m\u001b[38;5;241;43m=\u001b[39;49m\u001b[43mverbose\u001b[49m\u001b[43m)\u001b[49m\n\u001b[1;32m    345\u001b[0m \u001b[38;5;28;01melse\u001b[39;00m:\n\u001b[1;32m    346\u001b[0m     response_status \u001b[38;5;241m=\u001b[39m \u001b[38;5;28mself\u001b[39m\u001b[38;5;241m.\u001b[39mrequest(\n\u001b[1;32m    347\u001b[0m         reason\u001b[38;5;241m=\u001b[39mreason,\n\u001b[1;32m    348\u001b[0m         block\u001b[38;5;241m=\u001b[39m\u001b[38;5;28;01mTrue\u001b[39;00m,\n\u001b[1;32m    349\u001b[0m         timeout_secs\u001b[38;5;241m=\u001b[39mtimeout_secs,\n\u001b[1;32m    350\u001b[0m         verbose\u001b[38;5;241m=\u001b[39mverbose,\n\u001b[1;32m    351\u001b[0m     )\n",
      "File \u001b[0;32m~/anaconda3/envs/syft_env2/lib/python3.9/site-packages/syft/core/pointer/pointer.py:213\u001b[0m, in \u001b[0;36mPointer._get\u001b[0;34m(self, delete_obj, verbose)\u001b[0m\n\u001b[1;32m    202\u001b[0m debug(\n\u001b[1;32m    203\u001b[0m     \u001b[38;5;124mf\u001b[39m\u001b[38;5;124m\"\u001b[39m\u001b[38;5;124m> GetObjectAction for id_at_location=\u001b[39m\u001b[38;5;132;01m{\u001b[39;00m\u001b[38;5;28mself\u001b[39m\u001b[38;5;241m.\u001b[39mid_at_location\u001b[38;5;132;01m}\u001b[39;00m\u001b[38;5;124m \u001b[39m\u001b[38;5;124m\"\u001b[39m\n\u001b[1;32m    204\u001b[0m     \u001b[38;5;241m+\u001b[39m \u001b[38;5;124mf\u001b[39m\u001b[38;5;124m\"\u001b[39m\u001b[38;5;124mwith delete_obj=\u001b[39m\u001b[38;5;132;01m{\u001b[39;00mdelete_obj\u001b[38;5;132;01m}\u001b[39;00m\u001b[38;5;124m\"\u001b[39m\n\u001b[1;32m    205\u001b[0m )\n\u001b[1;32m    206\u001b[0m obj_msg \u001b[38;5;241m=\u001b[39m GetObjectAction(\n\u001b[1;32m    207\u001b[0m     id_at_location\u001b[38;5;241m=\u001b[39m\u001b[38;5;28mself\u001b[39m\u001b[38;5;241m.\u001b[39mid_at_location,\n\u001b[1;32m    208\u001b[0m     address\u001b[38;5;241m=\u001b[39m\u001b[38;5;28mself\u001b[39m\u001b[38;5;241m.\u001b[39mclient\u001b[38;5;241m.\u001b[39maddress,\n\u001b[1;32m    209\u001b[0m     reply_to\u001b[38;5;241m=\u001b[39m\u001b[38;5;28mself\u001b[39m\u001b[38;5;241m.\u001b[39mclient\u001b[38;5;241m.\u001b[39maddress,\n\u001b[1;32m    210\u001b[0m     delete_obj\u001b[38;5;241m=\u001b[39mdelete_obj,\n\u001b[1;32m    211\u001b[0m )\n\u001b[0;32m--> 213\u001b[0m obj \u001b[38;5;241m=\u001b[39m \u001b[38;5;28;43mself\u001b[39;49m\u001b[38;5;241;43m.\u001b[39;49m\u001b[43mclient\u001b[49m\u001b[38;5;241;43m.\u001b[39;49m\u001b[43msend_immediate_msg_with_reply\u001b[49m\u001b[43m(\u001b[49m\u001b[43mmsg\u001b[49m\u001b[38;5;241;43m=\u001b[39;49m\u001b[43mobj_msg\u001b[49m\u001b[43m)\u001b[49m\u001b[38;5;241m.\u001b[39mdata\n\u001b[1;32m    214\u001b[0m \u001b[38;5;28;01mif\u001b[39;00m \u001b[38;5;28mself\u001b[39m\u001b[38;5;241m.\u001b[39mis_enum:\n\u001b[1;32m    215\u001b[0m     enum_class \u001b[38;5;241m=\u001b[39m \u001b[38;5;28mself\u001b[39m\u001b[38;5;241m.\u001b[39mclient\u001b[38;5;241m.\u001b[39mlib_ast\u001b[38;5;241m.\u001b[39mquery(\u001b[38;5;28mself\u001b[39m\u001b[38;5;241m.\u001b[39mpath_and_name)\u001b[38;5;241m.\u001b[39mobject_ref\n",
      "File \u001b[0;32m~/anaconda3/envs/syft_env2/lib/python3.9/site-packages/syft/core/node/common/client.py:245\u001b[0m, in \u001b[0;36mClient.send_immediate_msg_with_reply\u001b[0;34m(self, msg, route_index, timeout)\u001b[0m\n\u001b[1;32m    243\u001b[0m     exception \u001b[38;5;241m=\u001b[39m exception_msg\u001b[38;5;241m.\u001b[39mexception_type(exception_msg\u001b[38;5;241m.\u001b[39mexception_msg)\n\u001b[1;32m    244\u001b[0m     error(\u001b[38;5;28mstr\u001b[39m(exception))\n\u001b[0;32m--> 245\u001b[0m     \u001b[43mtraceback_and_raise\u001b[49m\u001b[43m(\u001b[49m\u001b[43mexception\u001b[49m\u001b[43m)\u001b[49m\n\u001b[1;32m    246\u001b[0m \u001b[38;5;28;01melse\u001b[39;00m:\n\u001b[1;32m    247\u001b[0m     \u001b[38;5;28;01mreturn\u001b[39;00m response\u001b[38;5;241m.\u001b[39mmessage\n",
      "File \u001b[0;32m~/anaconda3/envs/syft_env2/lib/python3.9/site-packages/syft/logger.py:70\u001b[0m, in \u001b[0;36mtraceback_and_raise\u001b[0;34m(e, verbose)\u001b[0m\n\u001b[1;32m     68\u001b[0m \u001b[38;5;28;01mif\u001b[39;00m \u001b[38;5;129;01mnot\u001b[39;00m \u001b[38;5;28missubclass\u001b[39m(\u001b[38;5;28mtype\u001b[39m(e), \u001b[38;5;167;01mException\u001b[39;00m):\n\u001b[1;32m     69\u001b[0m     e \u001b[38;5;241m=\u001b[39m \u001b[38;5;167;01mException\u001b[39;00m(e)\n\u001b[0;32m---> 70\u001b[0m \u001b[38;5;28;01mraise\u001b[39;00m e\n",
      "\u001b[0;31mAuthorizationException\u001b[0m: You do not have permission to .get() Object with ID: <UID: c76bd8358346445c849b2653b8b0fa54> on node free_node Please submit a request."
     ]
    }
   ],
   "source": [
    "average.get() # I do not have permission, which is normal"
   ]
  },
  {
   "cell_type": "markdown",
   "id": "9e9a4427-fc9d-432a-ac5e-6b783bf8674d",
   "metadata": {},
   "source": [
    "**DS: make requests to access result values**"
   ]
  },
  {
   "cell_type": "code",
   "execution_count": 12,
   "id": "33959648-271b-4854-9d3a-13a45f8b1c25",
   "metadata": {},
   "outputs": [],
   "source": [
    "average.request(reason = \"Please approve!\")"
   ]
  },
  {
   "cell_type": "markdown",
   "id": "abb7d561-b967-44df-8f4a-ffafc6777aa6",
   "metadata": {},
   "source": [
    "**Access result values after receiving permission from DO**"
   ]
  },
  {
   "cell_type": "code",
   "execution_count": 13,
   "id": "381b7589-ed7c-41de-8c00-9ad33e88e9d6",
   "metadata": {},
   "outputs": [],
   "source": [
    "avg_value = average.get()"
   ]
  },
  {
   "cell_type": "code",
   "execution_count": 14,
   "id": "20a58d65-f630-4c54-a02a-f75bd37b122c",
   "metadata": {},
   "outputs": [
    {
     "name": "stdout",
     "output_type": "stream",
     "text": [
      "tensor(0.5000)\n"
     ]
    }
   ],
   "source": [
    "print(avg_value)"
   ]
  },
  {
   "cell_type": "code",
   "execution_count": 18,
   "id": "263ad489-fa8a-458b-a30b-044eafc544a2",
   "metadata": {},
   "outputs": [
    {
     "name": "stderr",
     "output_type": "stream",
     "text": [
      "[2022-06-22T16:39:21.478713-0400][CRITICAL][logger]][14047] UnknownPrivateException has been triggered.\n"
     ]
    },
    {
     "name": "stdout",
     "output_type": "stream",
     "text": [
      "None\n"
     ]
    }
   ],
   "source": [
    "# After enabling the request handler (DO's side)\n",
    "max_value_ptr = data_th_ptr.float().amax()\n",
    "\n",
    "max_value = max_value_ptr.get(\n",
    "    request_block=True,\n",
    "    reason=\"download the maximum value\",\n",
    "    timeout_secs=10,\n",
    ")\n",
    "\n",
    "print(max_value)"
   ]
  },
  {
   "cell_type": "markdown",
   "id": "6bb05a9e-5178-447c-9cae-6f0d88724439",
   "metadata": {},
   "source": [
    "## Using remote Torch\n",
    "Check [here](https://github.com/OpenMined/courses/blob/foundations-of-private-computation/federated-learning/duet_fl/Duet_FL_Data_Scientist.ipynb) for concrete example.  \n",
    "> remote_torch = < ds_client >.torch"
   ]
  },
  {
   "cell_type": "code",
   "execution_count": 27,
   "id": "4cdf85cf-7d50-4211-9ead-87aa022ae1a7",
   "metadata": {},
   "outputs": [
    {
     "data": {
      "text/plain": [
       "Module:\n",
       "\t.Parameter -> <syft.ast.klass.Class object at 0x7f1b666c4b20>\n",
       "\t.Module -> <syft.ast.klass.Class object at 0x7f1b665d2520>\n",
       "\t.Conv2d -> <syft.ast.klass.Class object at 0x7f1b665d2a00>\n",
       "\t.Dropout2d -> <syft.ast.klass.Class object at 0x7f1b665d2e20>\n",
       "\t.Linear -> <syft.ast.klass.Class object at 0x7f1b665d81c0>\n",
       "\t.functional -> Module:\n",
       "\t\t.relu -> <syft.ast.callable.Callable object at 0x7f1b665d8ac0>\n",
       "\t\t.gelu -> <syft.ast.callable.Callable object at 0x7f1b665d8b20>\n",
       "\t\t.max_pool2d -> <syft.ast.callable.Callable object at 0x7f1b665d8b80>\n",
       "\t\t.log_softmax -> <syft.ast.callable.Callable object at 0x7f1b665d8be0>\n",
       "\t\t.cosine_embedding_loss -> <syft.ast.callable.Callable object at 0x7f1b665e29a0>\n",
       "\t\t.ctc_loss -> <syft.ast.callable.Callable object at 0x7f1b665e2a00>\n",
       "\t\t.hinge_embedding_loss -> <syft.ast.callable.Callable object at 0x7f1b665e2ac0>\n",
       "\t\t.l1_loss -> <syft.ast.callable.Callable object at 0x7f1b665e2b20>\n",
       "\t\t.margin_ranking_loss -> <syft.ast.callable.Callable object at 0x7f1b665e2be0>\n",
       "\t\t.mse_loss -> <syft.ast.callable.Callable object at 0x7f1b665e2c40>\n",
       "\t\t.multi_margin_loss -> <syft.ast.callable.Callable object at 0x7f1b665e2d00>\n",
       "\t\t.multilabel_margin_loss -> <syft.ast.callable.Callable object at 0x7f1b665e2dc0>\n",
       "\t\t.multilabel_soft_margin_loss -> <syft.ast.callable.Callable object at 0x7f1b665e2e80>\n",
       "\t\t.nll_loss -> <syft.ast.callable.Callable object at 0x7f1b665e2ee0>\n",
       "\t\t.cross_entropy -> <syft.ast.callable.Callable object at 0x7f1b665e2fa0>\n",
       "\t\t.poisson_nll_loss -> <syft.ast.callable.Callable object at 0x7f1b665e70a0>\n",
       "\t\t.smooth_l1_loss -> <syft.ast.callable.Callable object at 0x7f1b665e7160>\n",
       "\t\t.soft_margin_loss -> <syft.ast.callable.Callable object at 0x7f1b665e7220>\n",
       "\t\t.triplet_margin_loss -> <syft.ast.callable.Callable object at 0x7f1b665e72e0>\n",
       "\n",
       "\t.Sequential -> <syft.ast.klass.Class object at 0x7f1b665e25e0>\n",
       "\t.AdaptiveLogSoftmaxWithLoss -> <syft.ast.klass.Class object at 0x7f1b665e73a0>\n",
       "\t.BCELoss -> <syft.ast.klass.Class object at 0x7f1b665e7520>\n",
       "\t.BCEWithLogitsLoss -> <syft.ast.klass.Class object at 0x7f1b665e75e0>\n",
       "\t.CTCLoss -> <syft.ast.klass.Class object at 0x7f1b665e7700>\n",
       "\t.CrossEntropyLoss -> <syft.ast.klass.Class object at 0x7f1b665e77c0>\n",
       "\t.CosineEmbeddingLoss -> <syft.ast.klass.Class object at 0x7f1b665e78e0>\n",
       "\t.HingeEmbeddingLoss -> <syft.ast.klass.Class object at 0x7f1b665e7a00>\n",
       "\t.KLDivLoss -> <syft.ast.klass.Class object at 0x7f1b665e7b20>\n",
       "\t.L1Loss -> <syft.ast.klass.Class object at 0x7f1b665e7be0>\n",
       "\t.MSELoss -> <syft.ast.klass.Class object at 0x7f1b665e7ca0>\n",
       "\t.MarginRankingLoss -> <syft.ast.klass.Class object at 0x7f1b665e7d60>\n",
       "\t.MultiLabelMarginLoss -> <syft.ast.klass.Class object at 0x7f1b665e7e80>\n",
       "\t.MultiLabelSoftMarginLoss -> <syft.ast.klass.Class object at 0x7f1b665eb040>\n",
       "\t.MultiMarginLoss -> <syft.ast.klass.Class object at 0x7f1b665eb160>\n",
       "\t.NLLLoss -> <syft.ast.klass.Class object at 0x7f1b665eb280>\n",
       "\t.NLLLoss2d -> <syft.ast.klass.Class object at 0x7f1b665eb340>\n",
       "\t.PoissonNLLLoss -> <syft.ast.klass.Class object at 0x7f1b665eb400>\n",
       "\t.SmoothL1Loss -> <syft.ast.klass.Class object at 0x7f1b665eb520>\n",
       "\t.SoftMarginLoss -> <syft.ast.klass.Class object at 0x7f1b665eb5e0>\n",
       "\t.TripletMarginLoss -> <syft.ast.klass.Class object at 0x7f1b665eb700>\n",
       "\t.AdaptiveAvgPool1d -> <syft.ast.klass.Class object at 0x7f1b665eb820>\n",
       "\t.AdaptiveAvgPool2d -> <syft.ast.klass.Class object at 0x7f1b665ebe80>\n",
       "\t.AdaptiveAvgPool3d -> <syft.ast.klass.Class object at 0x7f1b665ed520>\n",
       "\t.AdaptiveMaxPool1d -> <syft.ast.klass.Class object at 0x7f1b665edb80>\n",
       "\t.AdaptiveMaxPool2d -> <syft.ast.klass.Class object at 0x7f1b665f1220>\n",
       "\t.AdaptiveMaxPool3d -> <syft.ast.klass.Class object at 0x7f1b665f1880>\n",
       "\t.AlphaDropout -> <syft.ast.klass.Class object at 0x7f1b665f1ee0>\n",
       "\t.AvgPool1d -> <syft.ast.klass.Class object at 0x7f1b665f54c0>\n",
       "\t.AvgPool2d -> <syft.ast.klass.Class object at 0x7f1b665f5940>\n",
       "\t.AvgPool3d -> <syft.ast.klass.Class object at 0x7f1b665f5dc0>\n",
       "\t.BatchNorm1d -> <syft.ast.klass.Class object at 0x7f1b665f8280>\n",
       "\t.BatchNorm2d -> <syft.ast.klass.Class object at 0x7f1b665f8700>\n",
       "\t.BatchNorm3d -> <syft.ast.klass.Class object at 0x7f1b665f8b80>\n",
       "\t.Bilinear -> <syft.ast.klass.Class object at 0x7f1b665fc040>\n",
       "\t.CELU -> <syft.ast.klass.Class object at 0x7f1b665fc4c0>\n",
       "\t.ConstantPad1d -> <syft.ast.klass.Class object at 0x7f1b665fc8e0>\n",
       "\t.ConstantPad2d -> <syft.ast.klass.Class object at 0x7f1b665fce80>\n",
       "\t.ConstantPad3d -> <syft.ast.klass.Class object at 0x7f1b66580460>\n",
       "\t.Container -> <syft.ast.klass.Class object at 0x7f1b66580a00>\n",
       "\t.Conv1d -> <syft.ast.klass.Class object at 0x7f1b66580e80>\n",
       "\t.Conv3d -> <syft.ast.klass.Class object at 0x7f1b665832e0>\n",
       "\t.ConvTranspose1d -> <syft.ast.klass.Class object at 0x7f1b66583700>\n",
       "\t.ConvTranspose2d -> <syft.ast.klass.Class object at 0x7f1b66583d00>\n",
       "\t.ConvTranspose3d -> <syft.ast.klass.Class object at 0x7f1b66586340>\n",
       "\t.CosineSimilarity -> <syft.ast.klass.Class object at 0x7f1b66586940>\n",
       "\t.CrossMapLRN2d -> <syft.ast.klass.Class object at 0x7f1b66586f40>\n",
       "\t.DataParallel -> <syft.ast.klass.Class object at 0x7f1b6658a520>\n",
       "\t.Dropout -> <syft.ast.klass.Class object at 0x7f1b6658aac0>\n",
       "\t.Dropout3d -> <syft.ast.klass.Class object at 0x7f1b6658f0a0>\n",
       "\t.ELU -> <syft.ast.klass.Class object at 0x7f1b6658f520>\n",
       "\t.Embedding -> <syft.ast.klass.Class object at 0x7f1b6658f8e0>\n",
       "\t.EmbeddingBag -> <syft.ast.klass.Class object at 0x7f1b6658fd60>\n",
       "\t.FeatureAlphaDropout -> <syft.ast.klass.Class object at 0x7f1b66592340>\n",
       "\t.Flatten -> <syft.ast.klass.Class object at 0x7f1b66592a60>\n",
       "\t.Fold -> <syft.ast.klass.Class object at 0x7f1b66592ee0>\n",
       "\t.FractionalMaxPool2d -> <syft.ast.klass.Class object at 0x7f1b66596340>\n",
       "\t.FractionalMaxPool3d -> <syft.ast.klass.Class object at 0x7f1b66596a60>\n",
       "\t.GELU -> <syft.ast.klass.Class object at 0x7f1b665981c0>\n",
       "\t.GLU -> <syft.ast.klass.Class object at 0x7f1b665985e0>\n",
       "\t.GRU -> <syft.ast.klass.Class object at 0x7f1b665989a0>\n",
       "\t.GRUCell -> <syft.ast.klass.Class object at 0x7f1b66598d60>\n",
       "\t.GroupNorm -> <syft.ast.klass.Class object at 0x7f1b6659d220>\n",
       "\t.Hardshrink -> <syft.ast.klass.Class object at 0x7f1b6659d6a0>\n",
       "\t.Hardsigmoid -> <syft.ast.klass.Class object at 0x7f1b6659db20>\n",
       "\t.Hardswish -> <syft.ast.klass.Class object at 0x7f1b6659dee0>\n",
       "\t.Hardtanh -> <syft.ast.klass.Class object at 0x7f1b665a12e0>\n",
       "\t.Identity -> <syft.ast.klass.Class object at 0x7f1b665a1760>\n",
       "\t.InstanceNorm1d -> <syft.ast.klass.Class object at 0x7f1b665a1be0>\n",
       "\t.InstanceNorm2d -> <syft.ast.klass.Class object at 0x7f1b665a5220>\n",
       "\t.InstanceNorm3d -> <syft.ast.klass.Class object at 0x7f1b665a5820>\n",
       "\t.LPPool1d -> <syft.ast.klass.Class object at 0x7f1b665a5e20>\n",
       "\t.LPPool2d -> <syft.ast.klass.Class object at 0x7f1b665a82e0>\n",
       "\t.LSTM -> <syft.ast.klass.Class object at 0x7f1b665a8760>\n",
       "\t.LSTMCell -> <syft.ast.klass.Class object at 0x7f1b665a8b80>\n",
       "\t.LayerNorm -> <syft.ast.klass.Class object at 0x7f1b665ae040>\n",
       "\t.LeakyReLU -> <syft.ast.klass.Class object at 0x7f1b665ae4c0>\n",
       "\t.LocalResponseNorm -> <syft.ast.klass.Class object at 0x7f1b665ae940>\n",
       "\t.LogSigmoid -> <syft.ast.klass.Class object at 0x7f1b665aefa0>\n",
       "\t.LogSoftmax -> <syft.ast.klass.Class object at 0x7f1b665b1460>\n",
       "\t.MaxPool1d -> <syft.ast.klass.Class object at 0x7f1b665b18e0>\n",
       "\t.MaxPool2d -> <syft.ast.klass.Class object at 0x7f1b665b1d60>\n",
       "\t.MaxPool3d -> <syft.ast.klass.Class object at 0x7f1b665b4220>\n",
       "\t.MaxUnpool1d -> <syft.ast.klass.Class object at 0x7f1b665b46a0>\n",
       "\t.MaxUnpool2d -> <syft.ast.klass.Class object at 0x7f1b665b4b20>\n",
       "\t.MaxUnpool3d -> <syft.ast.klass.Class object at 0x7f1b665b4fa0>\n",
       "\t.ModuleDict -> <syft.ast.klass.Class object at 0x7f1b665b9460>\n",
       "\t.ModuleList -> <syft.ast.klass.Class object at 0x7f1b665b98e0>\n",
       "\t.MultiheadAttention -> <syft.ast.klass.Class object at 0x7f1b665b9e20>\n",
       "\t.PReLU -> <syft.ast.klass.Class object at 0x7f1b665bd520>\n",
       "\t.PairwiseDistance -> <syft.ast.klass.Class object at 0x7f1b665bd940>\n",
       "\t.PixelShuffle -> <syft.ast.klass.Class object at 0x7f1b665bdf40>\n",
       "\t.RNN -> <syft.ast.klass.Class object at 0x7f1b6653f520>\n",
       "\t.RNNBase -> <syft.ast.klass.Class object at 0x7f1b6653f8e0>\n",
       "\t.RNNCell -> <syft.ast.klass.Class object at 0x7f1b6653fd60>\n",
       "\t.RNNCellBase -> <syft.ast.klass.Class object at 0x7f1b66545220>\n",
       "\t.RReLU -> <syft.ast.klass.Class object at 0x7f1b665456a0>\n",
       "\t.ReLU -> <syft.ast.klass.Class object at 0x7f1b66545ac0>\n",
       "\t.ReLU6 -> <syft.ast.klass.Class object at 0x7f1b66545ee0>\n",
       "\t.ReflectionPad1d -> <syft.ast.klass.Class object at 0x7f1b66548340>\n",
       "\t.ReflectionPad2d -> <syft.ast.klass.Class object at 0x7f1b66548940>\n",
       "\t.ReplicationPad1d -> <syft.ast.klass.Class object at 0x7f1b66548f40>\n",
       "\t.ReplicationPad2d -> <syft.ast.klass.Class object at 0x7f1b6654c580>\n",
       "\t.ReplicationPad3d -> <syft.ast.klass.Class object at 0x7f1b6654cb80>\n",
       "\t.SELU -> <syft.ast.klass.Class object at 0x7f1b665501c0>\n",
       "\t.Sigmoid -> <syft.ast.klass.Class object at 0x7f1b66550760>\n",
       "\t.Softmax -> <syft.ast.klass.Class object at 0x7f1b66550be0>\n",
       "\t.Softmax2d -> <syft.ast.klass.Class object at 0x7f1b665530a0>\n",
       "\t.Softmin -> <syft.ast.klass.Class object at 0x7f1b66553520>\n",
       "\t.Softplus -> <syft.ast.klass.Class object at 0x7f1b665539a0>\n",
       "\t.Softshrink -> <syft.ast.klass.Class object at 0x7f1b66553e20>\n",
       "\t.Softsign -> <syft.ast.klass.Class object at 0x7f1b665562e0>\n",
       "\t.SyncBatchNorm -> <syft.ast.klass.Class object at 0x7f1b66556760>\n",
       "\t.Tanh -> <syft.ast.klass.Class object at 0x7f1b66556d00>\n",
       "\t.Tanhshrink -> <syft.ast.klass.Class object at 0x7f1b6655b160>\n",
       "\t.Threshold -> <syft.ast.klass.Class object at 0x7f1b6655b5e0>\n",
       "\t.Transformer -> <syft.ast.klass.Class object at 0x7f1b6655ba60>\n",
       "\t.TransformerDecoder -> <syft.ast.klass.Class object at 0x7f1b6655bee0>\n",
       "\t.TransformerDecoderLayer -> <syft.ast.klass.Class object at 0x7f1b66560640>\n",
       "\t.TransformerEncoder -> <syft.ast.klass.Class object at 0x7f1b66560ca0>\n",
       "\t.TransformerEncoderLayer -> <syft.ast.klass.Class object at 0x7f1b66562400>\n",
       "\t.Unfold -> <syft.ast.klass.Class object at 0x7f1b66562a60>\n",
       "\t.Upsample -> <syft.ast.klass.Class object at 0x7f1b66562e80>\n",
       "\t.UpsamplingBilinear2d -> <syft.ast.klass.Class object at 0x7f1b66565340>\n",
       "\t.UpsamplingNearest2d -> <syft.ast.klass.Class object at 0x7f1b66565a00>\n",
       "\t.ZeroPad2d -> <syft.ast.klass.Class object at 0x7f1b66569160>"
      ]
     },
     "execution_count": 27,
     "metadata": {},
     "output_type": "execute_result"
    }
   ],
   "source": [
    "ds_client.torch # Does exist still"
   ]
  },
  {
   "cell_type": "markdown",
   "id": "dfcd7ce7-e3d9-494c-a3b1-535663a94c18",
   "metadata": {},
   "source": [
    "**Creating a model compatible with remote computation:**  \n",
    "Using sy.Module"
   ]
  },
  {
   "cell_type": "code",
   "execution_count": 19,
   "id": "04b3073f-da09-4c02-8dd0-17c43000ba34",
   "metadata": {},
   "outputs": [
    {
     "ename": "AttributeError",
     "evalue": "module 'syft' has no attribute 'Module'",
     "output_type": "error",
     "traceback": [
      "\u001b[0;31m---------------------------------------------------------------------------\u001b[0m",
      "\u001b[0;31mAttributeError\u001b[0m                            Traceback (most recent call last)",
      "Input \u001b[0;32mIn [19]\u001b[0m, in \u001b[0;36m<cell line: 1>\u001b[0;34m()\u001b[0m\n\u001b[0;32m----> 1\u001b[0m \u001b[38;5;28;01mclass\u001b[39;00m \u001b[38;5;21;01mSyNet\u001b[39;00m(\u001b[43msy\u001b[49m\u001b[38;5;241;43m.\u001b[39;49m\u001b[43mModule\u001b[49m):\n\u001b[1;32m      2\u001b[0m     \u001b[38;5;28;01mdef\u001b[39;00m \u001b[38;5;21m__init__\u001b[39m(\u001b[38;5;28mself\u001b[39m, torch_ref):\n\u001b[1;32m      3\u001b[0m         \u001b[38;5;28msuper\u001b[39m(SyNet, \u001b[38;5;28mself\u001b[39m)\u001b[38;5;241m.\u001b[39m\u001b[38;5;21m__init__\u001b[39m(torch_ref\u001b[38;5;241m=\u001b[39mtorch_ref)\n",
      "File \u001b[0;32m~/anaconda3/envs/syft_env2/lib/python3.9/site-packages/syft/__init__.py:119\u001b[0m, in \u001b[0;36mmodule_property.<locals>.new_getattr\u001b[0;34m(name)\u001b[0m\n\u001b[1;32m    117\u001b[0m     \u001b[38;5;28;01mreturn\u001b[39;00m func()\n\u001b[1;32m    118\u001b[0m \u001b[38;5;28;01melse\u001b[39;00m:\n\u001b[0;32m--> 119\u001b[0m     \u001b[38;5;28;01mreturn\u001b[39;00m \u001b[43mold_getattr\u001b[49m\u001b[43m(\u001b[49m\u001b[43mname\u001b[49m\u001b[43m)\u001b[49m\n",
      "File \u001b[0;32m~/anaconda3/envs/syft_env2/lib/python3.9/site-packages/syft/__init__.py:111\u001b[0m, in \u001b[0;36mmodule_property.<locals>.base_getattr\u001b[0;34m(name)\u001b[0m\n\u001b[1;32m    110\u001b[0m \u001b[38;5;28;01mdef\u001b[39;00m \u001b[38;5;21mbase_getattr\u001b[39m(name: \u001b[38;5;28mstr\u001b[39m) \u001b[38;5;241m-\u001b[39m\u001b[38;5;241m>\u001b[39m \u001b[38;5;28;01mNone\u001b[39;00m:\n\u001b[0;32m--> 111\u001b[0m     \u001b[38;5;28;01mraise\u001b[39;00m \u001b[38;5;167;01mAttributeError\u001b[39;00m(\u001b[38;5;124mf\u001b[39m\u001b[38;5;124m\"\u001b[39m\u001b[38;5;124mmodule \u001b[39m\u001b[38;5;124m'\u001b[39m\u001b[38;5;132;01m{\u001b[39;00mmodule\u001b[38;5;241m.\u001b[39m\u001b[38;5;18m__name__\u001b[39m\u001b[38;5;132;01m}\u001b[39;00m\u001b[38;5;124m'\u001b[39m\u001b[38;5;124m has no attribute \u001b[39m\u001b[38;5;124m'\u001b[39m\u001b[38;5;132;01m{\u001b[39;00mname\u001b[38;5;132;01m}\u001b[39;00m\u001b[38;5;124m'\u001b[39m\u001b[38;5;124m\"\u001b[39m)\n",
      "\u001b[0;31mAttributeError\u001b[0m: module 'syft' has no attribute 'Module'"
     ]
    }
   ],
   "source": [
    "# Doesn't work anymore\n",
    "class SyNet(sy.Module):\n",
    "    def __init__(self, torch_ref):\n",
    "        super(SyNet, self).__init__(torch_ref=torch_ref)\n",
    "        self.linear = self.torch_ref.nn.Linear(in_dim, out_dim)\n",
    "\n",
    "    def forward(self, x):\n",
    "        x = self.linear(x)\n",
    "        return x   "
   ]
  }
 ],
 "metadata": {
  "kernelspec": {
   "display_name": "Python 3 (ipykernel)",
   "language": "python",
   "name": "python3"
  },
  "language_info": {
   "codemirror_mode": {
    "name": "ipython",
    "version": 3
   },
   "file_extension": ".py",
   "mimetype": "text/x-python",
   "name": "python",
   "nbconvert_exporter": "python",
   "pygments_lexer": "ipython3",
   "version": "3.9.12"
  }
 },
 "nbformat": 4,
 "nbformat_minor": 5
}
