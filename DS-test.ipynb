{
 "cells": [
  {
   "cell_type": "code",
   "execution_count": 31,
   "id": "d735dee7-6b0a-4c38-8ff6-65347301a17b",
   "metadata": {},
   "outputs": [
    {
     "name": "stdout",
     "output_type": "stream",
     "text": [
      "0.7.0-beta.28\n"
     ]
    }
   ],
   "source": [
    "import syft as sy\n",
    "print(sy.__version__)\n",
    "import torch"
   ]
  },
  {
   "cell_type": "code",
   "execution_count": 5,
   "id": "ef5ed79a-0054-4453-9deb-97a8432e3c39",
   "metadata": {},
   "outputs": [
    {
     "name": "stdout",
     "output_type": "stream",
     "text": [
      "Connecting to 192.168.0.77... done! \t Logging into love... done!\n",
      "\n",
      "**Warning**: The syft version on your system and the node are different.\n",
      "Version on your system: 0.7.0-beta.28\n",
      "Version on the node: 0.7.0-beta.29\n",
      "\n"
     ]
    }
   ],
   "source": [
    "ds_client = sy.login(\n",
    "    # url=\"http://96.20.213.92\",\n",
    "    url = \"192.168.0.77\",\n",
    "    email=\"shu00.song@gmail.com\",\n",
    "    password=\"23691\",\n",
    "    port=8081\n",
    ")"
   ]
  },
  {
   "cell_type": "code",
   "execution_count": 6,
   "id": "d4bb6cc3-1daf-4faf-bb15-de1356df15a4",
   "metadata": {},
   "outputs": [
    {
     "data": {
      "text/html": [
       "(no datasets found)"
      ],
      "text/plain": [
       "<syft.core.node.common.client_manager.dataset_api.DatasetRequestAPI at 0x7f1b6619efa0>"
      ]
     },
     "execution_count": 6,
     "metadata": {},
     "output_type": "execute_result"
    }
   ],
   "source": [
    "# 0.6 and more \n",
    "# When DO: .send() a numpy array \n",
    "ds_client.datasets # Doesn't work"
   ]
  },
  {
   "cell_type": "code",
   "execution_count": 14,
   "id": "586f0616-d1b4-4a94-9bad-d17aebfda7ad",
   "metadata": {},
   "outputs": [
    {
     "data": {
      "text/html": [
       "<div>\n",
       "<style scoped>\n",
       "    .dataframe tbody tr th:only-of-type {\n",
       "        vertical-align: middle;\n",
       "    }\n",
       "\n",
       "    .dataframe tbody tr th {\n",
       "        vertical-align: top;\n",
       "    }\n",
       "\n",
       "    .dataframe thead th {\n",
       "        text-align: right;\n",
       "    }\n",
       "</style>\n",
       "<table border=\"1\" class=\"dataframe\">\n",
       "  <thead>\n",
       "    <tr style=\"text-align: right;\">\n",
       "      <th></th>\n",
       "      <th>ID</th>\n",
       "      <th>Tags</th>\n",
       "      <th>Description</th>\n",
       "      <th>object_type</th>\n",
       "    </tr>\n",
       "  </thead>\n",
       "  <tbody>\n",
       "    <tr>\n",
       "      <th>0</th>\n",
       "      <td>&lt;UID: 35976363716c48b693e963fb57ca2eb9&gt;</td>\n",
       "      <td>[]</td>\n",
       "      <td></td>\n",
       "      <td>&lt;class 'torch.Tensor'&gt;</td>\n",
       "    </tr>\n",
       "    <tr>\n",
       "      <th>1</th>\n",
       "      <td>&lt;UID: 6a101536fe2c4c7fac0d6a6bbe2030c3&gt;</td>\n",
       "      <td>[]</td>\n",
       "      <td></td>\n",
       "      <td>&lt;class 'numpy.ndarray'&gt;</td>\n",
       "    </tr>\n",
       "    <tr>\n",
       "      <th>2</th>\n",
       "      <td>&lt;UID: 1e54c947c0f143949f25aafaa3de4296&gt;</td>\n",
       "      <td>[test]</td>\n",
       "      <td>This is a test</td>\n",
       "      <td>&lt;class 'torch.Tensor'&gt;</td>\n",
       "    </tr>\n",
       "  </tbody>\n",
       "</table>\n",
       "</div>"
      ],
      "text/plain": [
       "                                        ID    Tags     Description  \\\n",
       "0  <UID: 35976363716c48b693e963fb57ca2eb9>      []                   \n",
       "1  <UID: 6a101536fe2c4c7fac0d6a6bbe2030c3>      []                   \n",
       "2  <UID: 1e54c947c0f143949f25aafaa3de4296>  [test]  This is a test   \n",
       "\n",
       "               object_type  \n",
       "0   <class 'torch.Tensor'>  \n",
       "1  <class 'numpy.ndarray'>  \n",
       "2   <class 'torch.Tensor'>  "
      ]
     },
     "execution_count": 14,
     "metadata": {},
     "output_type": "execute_result"
    }
   ],
   "source": [
    "ds_client.store.pandas"
   ]
  },
  {
   "cell_type": "code",
   "execution_count": 11,
   "id": "155a1aaf-9099-44c4-9ed1-9daecaef2373",
   "metadata": {},
   "outputs": [],
   "source": []
  },
  {
   "cell_type": "code",
   "execution_count": 15,
   "id": "ad56420c-f93d-4af5-bc95-66282cd9dc57",
   "metadata": {},
   "outputs": [],
   "source": [
    "data_np_ptr = ds_client.store[2] "
   ]
  },
  {
   "cell_type": "code",
   "execution_count": 16,
   "id": "8fa563f4-fdc6-4261-9b82-ac8bd5e0230f",
   "metadata": {},
   "outputs": [
    {
     "name": "stdout",
     "output_type": "stream",
     "text": [
      "<TensorPointer -> love:1e54c947c0f143949f25aafaa3de4296>\n"
     ]
    }
   ],
   "source": [
    "print(data_np_ptr)"
   ]
  },
  {
   "cell_type": "code",
   "execution_count": 17,
   "id": "2c9782f1-fe29-4152-aa20-960a3390e3ba",
   "metadata": {},
   "outputs": [],
   "source": [
    "average = data_np_ptr.mean()"
   ]
  },
  {
   "cell_type": "code",
   "execution_count": 18,
   "id": "3233675c-6ec3-49a1-8c1b-6e3ebc5a4220",
   "metadata": {},
   "outputs": [
    {
     "name": "stdout",
     "output_type": "stream",
     "text": [
      "<TensorPointer -> love:f1c772d7c24645c990b5f24838b89f32>\n"
     ]
    }
   ],
   "source": [
    "print(average)"
   ]
  },
  {
   "cell_type": "code",
   "execution_count": 22,
   "id": "d2ba8c72-970f-4be4-bb90-474b65eb6b67",
   "metadata": {},
   "outputs": [
    {
     "name": "stderr",
     "output_type": "stream",
     "text": [
      "[2022-06-21T13:45:03.710360-0400][CRITICAL][logger]][28249] UnknownPrivateException has been triggered.\n"
     ]
    },
    {
     "ename": "UnknownPrivateException",
     "evalue": "UnknownPrivateException has been triggered.",
     "output_type": "error",
     "traceback": [
      "\u001b[0;31m---------------------------------------------------------------------------\u001b[0m",
      "\u001b[0;31mUnknownPrivateException\u001b[0m                   Traceback (most recent call last)",
      "Input \u001b[0;32mIn [22]\u001b[0m, in \u001b[0;36m<cell line: 1>\u001b[0;34m()\u001b[0m\n\u001b[0;32m----> 1\u001b[0m \u001b[43maverage\u001b[49m\u001b[38;5;241;43m.\u001b[39;49m\u001b[43mget\u001b[49m\u001b[43m(\u001b[49m\u001b[43m)\u001b[49m\n",
      "File \u001b[0;32m~/anaconda3/envs/syft_env/lib/python3.9/site-packages/syft/core/pointer/pointer.py:396\u001b[0m, in \u001b[0;36mPointer.get\u001b[0;34m(self, request_block, timeout_secs, reason, delete_obj, verbose, proxy_only)\u001b[0m\n\u001b[1;32m    391\u001b[0m     \u001b[38;5;28;01mraise\u001b[39;00m \u001b[38;5;167;01mReferenceError\u001b[39;00m(\n\u001b[1;32m    392\u001b[0m         \u001b[38;5;124m\"\u001b[39m\u001b[38;5;124mObject has already been deleted. This pointer is exhausted\u001b[39m\u001b[38;5;124m\"\u001b[39m\n\u001b[1;32m    393\u001b[0m     )\n\u001b[1;32m    395\u001b[0m \u001b[38;5;28;01mif\u001b[39;00m \u001b[38;5;129;01mnot\u001b[39;00m request_block:\n\u001b[0;32m--> 396\u001b[0m     result \u001b[38;5;241m=\u001b[39m \u001b[38;5;28;43mself\u001b[39;49m\u001b[38;5;241;43m.\u001b[39;49m\u001b[43m_get\u001b[49m\u001b[43m(\u001b[49m\n\u001b[1;32m    397\u001b[0m \u001b[43m        \u001b[49m\u001b[43mdelete_obj\u001b[49m\u001b[38;5;241;43m=\u001b[39;49m\u001b[43mdelete_obj\u001b[49m\u001b[43m,\u001b[49m\u001b[43m \u001b[49m\u001b[43mverbose\u001b[49m\u001b[38;5;241;43m=\u001b[39;49m\u001b[43mverbose\u001b[49m\u001b[43m,\u001b[49m\u001b[43m \u001b[49m\u001b[43mproxy_only\u001b[49m\u001b[38;5;241;43m=\u001b[39;49m\u001b[43mproxy_only\u001b[49m\n\u001b[1;32m    398\u001b[0m \u001b[43m    \u001b[49m\u001b[43m)\u001b[49m\n\u001b[1;32m    399\u001b[0m \u001b[38;5;28;01melse\u001b[39;00m:\n\u001b[1;32m    400\u001b[0m     response_status \u001b[38;5;241m=\u001b[39m \u001b[38;5;28mself\u001b[39m\u001b[38;5;241m.\u001b[39mrequest(\n\u001b[1;32m    401\u001b[0m         reason\u001b[38;5;241m=\u001b[39mreason,\n\u001b[1;32m    402\u001b[0m         block\u001b[38;5;241m=\u001b[39m\u001b[38;5;28;01mTrue\u001b[39;00m,\n\u001b[1;32m    403\u001b[0m         timeout_secs\u001b[38;5;241m=\u001b[39mtimeout_secs,\n\u001b[1;32m    404\u001b[0m         verbose\u001b[38;5;241m=\u001b[39mverbose,\n\u001b[1;32m    405\u001b[0m     )\n",
      "File \u001b[0;32m~/anaconda3/envs/syft_env/lib/python3.9/site-packages/syft/core/pointer/pointer.py:218\u001b[0m, in \u001b[0;36mPointer._get\u001b[0;34m(self, delete_obj, verbose, proxy_only)\u001b[0m\n\u001b[1;32m    207\u001b[0m debug(\n\u001b[1;32m    208\u001b[0m     \u001b[38;5;124mf\u001b[39m\u001b[38;5;124m\"\u001b[39m\u001b[38;5;124m> GetObjectAction for id_at_location=\u001b[39m\u001b[38;5;132;01m{\u001b[39;00m\u001b[38;5;28mself\u001b[39m\u001b[38;5;241m.\u001b[39mid_at_location\u001b[38;5;132;01m}\u001b[39;00m\u001b[38;5;124m \u001b[39m\u001b[38;5;124m\"\u001b[39m\n\u001b[1;32m    209\u001b[0m     \u001b[38;5;241m+\u001b[39m \u001b[38;5;124mf\u001b[39m\u001b[38;5;124m\"\u001b[39m\u001b[38;5;124mwith delete_obj=\u001b[39m\u001b[38;5;132;01m{\u001b[39;00mdelete_obj\u001b[38;5;132;01m}\u001b[39;00m\u001b[38;5;124m\"\u001b[39m\n\u001b[1;32m    210\u001b[0m )\n\u001b[1;32m    211\u001b[0m obj_msg \u001b[38;5;241m=\u001b[39m GetObjectAction(\n\u001b[1;32m    212\u001b[0m     id_at_location\u001b[38;5;241m=\u001b[39m\u001b[38;5;28mself\u001b[39m\u001b[38;5;241m.\u001b[39mid_at_location,\n\u001b[1;32m    213\u001b[0m     address\u001b[38;5;241m=\u001b[39m\u001b[38;5;28mself\u001b[39m\u001b[38;5;241m.\u001b[39mclient\u001b[38;5;241m.\u001b[39maddress,\n\u001b[1;32m    214\u001b[0m     reply_to\u001b[38;5;241m=\u001b[39m\u001b[38;5;28mself\u001b[39m\u001b[38;5;241m.\u001b[39mclient\u001b[38;5;241m.\u001b[39maddress,\n\u001b[1;32m    215\u001b[0m     delete_obj\u001b[38;5;241m=\u001b[39mdelete_obj,\n\u001b[1;32m    216\u001b[0m )\n\u001b[0;32m--> 218\u001b[0m obj \u001b[38;5;241m=\u001b[39m \u001b[38;5;28;43mself\u001b[39;49m\u001b[38;5;241;43m.\u001b[39;49m\u001b[43mclient\u001b[49m\u001b[38;5;241;43m.\u001b[39;49m\u001b[43msend_immediate_msg_with_reply\u001b[49m\u001b[43m(\u001b[49m\u001b[43mmsg\u001b[49m\u001b[38;5;241;43m=\u001b[39;49m\u001b[43mobj_msg\u001b[49m\u001b[43m)\u001b[49m\n\u001b[1;32m    219\u001b[0m \u001b[38;5;28;01mif\u001b[39;00m \u001b[38;5;129;01mnot\u001b[39;00m proxy_only \u001b[38;5;129;01mand\u001b[39;00m obj\u001b[38;5;241m.\u001b[39mobj\u001b[38;5;241m.\u001b[39mis_proxy:\n\u001b[1;32m    220\u001b[0m     presigned_url_path \u001b[38;5;241m=\u001b[39m obj\u001b[38;5;241m.\u001b[39mobj\u001b[38;5;241m.\u001b[39m_data\u001b[38;5;241m.\u001b[39murl\n",
      "File \u001b[0;32m~/anaconda3/envs/syft_env/lib/python3.9/site-packages/syft/core/node/common/client.py:250\u001b[0m, in \u001b[0;36mClient.send_immediate_msg_with_reply\u001b[0;34m(self, msg, timeout, route_index)\u001b[0m\n\u001b[1;32m    248\u001b[0m     exception \u001b[38;5;241m=\u001b[39m exception_msg\u001b[38;5;241m.\u001b[39mexception_type(exception_msg\u001b[38;5;241m.\u001b[39mexception_msg)\n\u001b[1;32m    249\u001b[0m     error(\u001b[38;5;28mstr\u001b[39m(exception))\n\u001b[0;32m--> 250\u001b[0m     \u001b[43mtraceback_and_raise\u001b[49m\u001b[43m(\u001b[49m\u001b[43mexception\u001b[49m\u001b[43m)\u001b[49m\n\u001b[1;32m    251\u001b[0m \u001b[38;5;28;01melse\u001b[39;00m:\n\u001b[1;32m    252\u001b[0m     \u001b[38;5;28;01mreturn\u001b[39;00m response\u001b[38;5;241m.\u001b[39mmessage\n",
      "File \u001b[0;32m~/anaconda3/envs/syft_env/lib/python3.9/site-packages/syft/logger.py:70\u001b[0m, in \u001b[0;36mtraceback_and_raise\u001b[0;34m(e, verbose)\u001b[0m\n\u001b[1;32m     68\u001b[0m \u001b[38;5;28;01mif\u001b[39;00m \u001b[38;5;129;01mnot\u001b[39;00m \u001b[38;5;28missubclass\u001b[39m(\u001b[38;5;28mtype\u001b[39m(e), \u001b[38;5;167;01mException\u001b[39;00m):\n\u001b[1;32m     69\u001b[0m     e \u001b[38;5;241m=\u001b[39m \u001b[38;5;167;01mException\u001b[39;00m(e)\n\u001b[0;32m---> 70\u001b[0m \u001b[38;5;28;01mraise\u001b[39;00m e\n",
      "\u001b[0;31mUnknownPrivateException\u001b[0m: UnknownPrivateException has been triggered."
     ]
    }
   ],
   "source": [
    "average.get() # I do not have permission, which is normal"
   ]
  },
  {
   "cell_type": "code",
   "execution_count": 21,
   "id": "a3d9ee08-f287-4906-bb47-b7021f5dbf90",
   "metadata": {},
   "outputs": [],
   "source": [
    "average.request(reason = \"Please approve!\")"
   ]
  },
  {
   "cell_type": "code",
   "execution_count": 23,
   "id": "5028d7f3-5f50-419b-88a7-af717d95141c",
   "metadata": {},
   "outputs": [
    {
     "ename": "AttributeError",
     "evalue": "module 'syft' has no attribute 'Module'",
     "output_type": "error",
     "traceback": [
      "\u001b[0;31m---------------------------------------------------------------------------\u001b[0m",
      "\u001b[0;31mAttributeError\u001b[0m                            Traceback (most recent call last)",
      "Input \u001b[0;32mIn [23]\u001b[0m, in \u001b[0;36m<cell line: 1>\u001b[0;34m()\u001b[0m\n\u001b[0;32m----> 1\u001b[0m \u001b[43msy\u001b[49m\u001b[38;5;241;43m.\u001b[39;49m\u001b[43mModule\u001b[49m\n",
      "File \u001b[0;32m~/anaconda3/envs/syft_env/lib/python3.9/site-packages/syft/__init__.py:99\u001b[0m, in \u001b[0;36mmodule_property.<locals>.new_getattr\u001b[0;34m(name)\u001b[0m\n\u001b[1;32m     97\u001b[0m     \u001b[38;5;28;01mreturn\u001b[39;00m func()\n\u001b[1;32m     98\u001b[0m \u001b[38;5;28;01melse\u001b[39;00m:\n\u001b[0;32m---> 99\u001b[0m     \u001b[38;5;28;01mreturn\u001b[39;00m \u001b[43mold_getattr\u001b[49m\u001b[43m(\u001b[49m\u001b[43mname\u001b[49m\u001b[43m)\u001b[49m\n",
      "File \u001b[0;32m~/anaconda3/envs/syft_env/lib/python3.9/site-packages/syft/__init__.py:91\u001b[0m, in \u001b[0;36mmodule_property.<locals>.base_getattr\u001b[0;34m(name)\u001b[0m\n\u001b[1;32m     90\u001b[0m \u001b[38;5;28;01mdef\u001b[39;00m \u001b[38;5;21mbase_getattr\u001b[39m(name: \u001b[38;5;28mstr\u001b[39m) \u001b[38;5;241m-\u001b[39m\u001b[38;5;241m>\u001b[39m \u001b[38;5;28;01mNone\u001b[39;00m:\n\u001b[0;32m---> 91\u001b[0m     \u001b[38;5;28;01mraise\u001b[39;00m \u001b[38;5;167;01mAttributeError\u001b[39;00m(\u001b[38;5;124mf\u001b[39m\u001b[38;5;124m\"\u001b[39m\u001b[38;5;124mmodule \u001b[39m\u001b[38;5;124m'\u001b[39m\u001b[38;5;132;01m{\u001b[39;00mmodule\u001b[38;5;241m.\u001b[39m\u001b[38;5;18m__name__\u001b[39m\u001b[38;5;132;01m}\u001b[39;00m\u001b[38;5;124m'\u001b[39m\u001b[38;5;124m has no attribute \u001b[39m\u001b[38;5;124m'\u001b[39m\u001b[38;5;132;01m{\u001b[39;00mname\u001b[38;5;132;01m}\u001b[39;00m\u001b[38;5;124m'\u001b[39m\u001b[38;5;124m\"\u001b[39m)\n",
      "\u001b[0;31mAttributeError\u001b[0m: module 'syft' has no attribute 'Module'"
     ]
    }
   ],
   "source": [
    "sy.Module"
   ]
  },
  {
   "cell_type": "code",
   "execution_count": 27,
   "id": "4cdf85cf-7d50-4211-9ead-87aa022ae1a7",
   "metadata": {},
   "outputs": [
    {
     "data": {
      "text/plain": [
       "Module:\n",
       "\t.Parameter -> <syft.ast.klass.Class object at 0x7f1b666c4b20>\n",
       "\t.Module -> <syft.ast.klass.Class object at 0x7f1b665d2520>\n",
       "\t.Conv2d -> <syft.ast.klass.Class object at 0x7f1b665d2a00>\n",
       "\t.Dropout2d -> <syft.ast.klass.Class object at 0x7f1b665d2e20>\n",
       "\t.Linear -> <syft.ast.klass.Class object at 0x7f1b665d81c0>\n",
       "\t.functional -> Module:\n",
       "\t\t.relu -> <syft.ast.callable.Callable object at 0x7f1b665d8ac0>\n",
       "\t\t.gelu -> <syft.ast.callable.Callable object at 0x7f1b665d8b20>\n",
       "\t\t.max_pool2d -> <syft.ast.callable.Callable object at 0x7f1b665d8b80>\n",
       "\t\t.log_softmax -> <syft.ast.callable.Callable object at 0x7f1b665d8be0>\n",
       "\t\t.cosine_embedding_loss -> <syft.ast.callable.Callable object at 0x7f1b665e29a0>\n",
       "\t\t.ctc_loss -> <syft.ast.callable.Callable object at 0x7f1b665e2a00>\n",
       "\t\t.hinge_embedding_loss -> <syft.ast.callable.Callable object at 0x7f1b665e2ac0>\n",
       "\t\t.l1_loss -> <syft.ast.callable.Callable object at 0x7f1b665e2b20>\n",
       "\t\t.margin_ranking_loss -> <syft.ast.callable.Callable object at 0x7f1b665e2be0>\n",
       "\t\t.mse_loss -> <syft.ast.callable.Callable object at 0x7f1b665e2c40>\n",
       "\t\t.multi_margin_loss -> <syft.ast.callable.Callable object at 0x7f1b665e2d00>\n",
       "\t\t.multilabel_margin_loss -> <syft.ast.callable.Callable object at 0x7f1b665e2dc0>\n",
       "\t\t.multilabel_soft_margin_loss -> <syft.ast.callable.Callable object at 0x7f1b665e2e80>\n",
       "\t\t.nll_loss -> <syft.ast.callable.Callable object at 0x7f1b665e2ee0>\n",
       "\t\t.cross_entropy -> <syft.ast.callable.Callable object at 0x7f1b665e2fa0>\n",
       "\t\t.poisson_nll_loss -> <syft.ast.callable.Callable object at 0x7f1b665e70a0>\n",
       "\t\t.smooth_l1_loss -> <syft.ast.callable.Callable object at 0x7f1b665e7160>\n",
       "\t\t.soft_margin_loss -> <syft.ast.callable.Callable object at 0x7f1b665e7220>\n",
       "\t\t.triplet_margin_loss -> <syft.ast.callable.Callable object at 0x7f1b665e72e0>\n",
       "\n",
       "\t.Sequential -> <syft.ast.klass.Class object at 0x7f1b665e25e0>\n",
       "\t.AdaptiveLogSoftmaxWithLoss -> <syft.ast.klass.Class object at 0x7f1b665e73a0>\n",
       "\t.BCELoss -> <syft.ast.klass.Class object at 0x7f1b665e7520>\n",
       "\t.BCEWithLogitsLoss -> <syft.ast.klass.Class object at 0x7f1b665e75e0>\n",
       "\t.CTCLoss -> <syft.ast.klass.Class object at 0x7f1b665e7700>\n",
       "\t.CrossEntropyLoss -> <syft.ast.klass.Class object at 0x7f1b665e77c0>\n",
       "\t.CosineEmbeddingLoss -> <syft.ast.klass.Class object at 0x7f1b665e78e0>\n",
       "\t.HingeEmbeddingLoss -> <syft.ast.klass.Class object at 0x7f1b665e7a00>\n",
       "\t.KLDivLoss -> <syft.ast.klass.Class object at 0x7f1b665e7b20>\n",
       "\t.L1Loss -> <syft.ast.klass.Class object at 0x7f1b665e7be0>\n",
       "\t.MSELoss -> <syft.ast.klass.Class object at 0x7f1b665e7ca0>\n",
       "\t.MarginRankingLoss -> <syft.ast.klass.Class object at 0x7f1b665e7d60>\n",
       "\t.MultiLabelMarginLoss -> <syft.ast.klass.Class object at 0x7f1b665e7e80>\n",
       "\t.MultiLabelSoftMarginLoss -> <syft.ast.klass.Class object at 0x7f1b665eb040>\n",
       "\t.MultiMarginLoss -> <syft.ast.klass.Class object at 0x7f1b665eb160>\n",
       "\t.NLLLoss -> <syft.ast.klass.Class object at 0x7f1b665eb280>\n",
       "\t.NLLLoss2d -> <syft.ast.klass.Class object at 0x7f1b665eb340>\n",
       "\t.PoissonNLLLoss -> <syft.ast.klass.Class object at 0x7f1b665eb400>\n",
       "\t.SmoothL1Loss -> <syft.ast.klass.Class object at 0x7f1b665eb520>\n",
       "\t.SoftMarginLoss -> <syft.ast.klass.Class object at 0x7f1b665eb5e0>\n",
       "\t.TripletMarginLoss -> <syft.ast.klass.Class object at 0x7f1b665eb700>\n",
       "\t.AdaptiveAvgPool1d -> <syft.ast.klass.Class object at 0x7f1b665eb820>\n",
       "\t.AdaptiveAvgPool2d -> <syft.ast.klass.Class object at 0x7f1b665ebe80>\n",
       "\t.AdaptiveAvgPool3d -> <syft.ast.klass.Class object at 0x7f1b665ed520>\n",
       "\t.AdaptiveMaxPool1d -> <syft.ast.klass.Class object at 0x7f1b665edb80>\n",
       "\t.AdaptiveMaxPool2d -> <syft.ast.klass.Class object at 0x7f1b665f1220>\n",
       "\t.AdaptiveMaxPool3d -> <syft.ast.klass.Class object at 0x7f1b665f1880>\n",
       "\t.AlphaDropout -> <syft.ast.klass.Class object at 0x7f1b665f1ee0>\n",
       "\t.AvgPool1d -> <syft.ast.klass.Class object at 0x7f1b665f54c0>\n",
       "\t.AvgPool2d -> <syft.ast.klass.Class object at 0x7f1b665f5940>\n",
       "\t.AvgPool3d -> <syft.ast.klass.Class object at 0x7f1b665f5dc0>\n",
       "\t.BatchNorm1d -> <syft.ast.klass.Class object at 0x7f1b665f8280>\n",
       "\t.BatchNorm2d -> <syft.ast.klass.Class object at 0x7f1b665f8700>\n",
       "\t.BatchNorm3d -> <syft.ast.klass.Class object at 0x7f1b665f8b80>\n",
       "\t.Bilinear -> <syft.ast.klass.Class object at 0x7f1b665fc040>\n",
       "\t.CELU -> <syft.ast.klass.Class object at 0x7f1b665fc4c0>\n",
       "\t.ConstantPad1d -> <syft.ast.klass.Class object at 0x7f1b665fc8e0>\n",
       "\t.ConstantPad2d -> <syft.ast.klass.Class object at 0x7f1b665fce80>\n",
       "\t.ConstantPad3d -> <syft.ast.klass.Class object at 0x7f1b66580460>\n",
       "\t.Container -> <syft.ast.klass.Class object at 0x7f1b66580a00>\n",
       "\t.Conv1d -> <syft.ast.klass.Class object at 0x7f1b66580e80>\n",
       "\t.Conv3d -> <syft.ast.klass.Class object at 0x7f1b665832e0>\n",
       "\t.ConvTranspose1d -> <syft.ast.klass.Class object at 0x7f1b66583700>\n",
       "\t.ConvTranspose2d -> <syft.ast.klass.Class object at 0x7f1b66583d00>\n",
       "\t.ConvTranspose3d -> <syft.ast.klass.Class object at 0x7f1b66586340>\n",
       "\t.CosineSimilarity -> <syft.ast.klass.Class object at 0x7f1b66586940>\n",
       "\t.CrossMapLRN2d -> <syft.ast.klass.Class object at 0x7f1b66586f40>\n",
       "\t.DataParallel -> <syft.ast.klass.Class object at 0x7f1b6658a520>\n",
       "\t.Dropout -> <syft.ast.klass.Class object at 0x7f1b6658aac0>\n",
       "\t.Dropout3d -> <syft.ast.klass.Class object at 0x7f1b6658f0a0>\n",
       "\t.ELU -> <syft.ast.klass.Class object at 0x7f1b6658f520>\n",
       "\t.Embedding -> <syft.ast.klass.Class object at 0x7f1b6658f8e0>\n",
       "\t.EmbeddingBag -> <syft.ast.klass.Class object at 0x7f1b6658fd60>\n",
       "\t.FeatureAlphaDropout -> <syft.ast.klass.Class object at 0x7f1b66592340>\n",
       "\t.Flatten -> <syft.ast.klass.Class object at 0x7f1b66592a60>\n",
       "\t.Fold -> <syft.ast.klass.Class object at 0x7f1b66592ee0>\n",
       "\t.FractionalMaxPool2d -> <syft.ast.klass.Class object at 0x7f1b66596340>\n",
       "\t.FractionalMaxPool3d -> <syft.ast.klass.Class object at 0x7f1b66596a60>\n",
       "\t.GELU -> <syft.ast.klass.Class object at 0x7f1b665981c0>\n",
       "\t.GLU -> <syft.ast.klass.Class object at 0x7f1b665985e0>\n",
       "\t.GRU -> <syft.ast.klass.Class object at 0x7f1b665989a0>\n",
       "\t.GRUCell -> <syft.ast.klass.Class object at 0x7f1b66598d60>\n",
       "\t.GroupNorm -> <syft.ast.klass.Class object at 0x7f1b6659d220>\n",
       "\t.Hardshrink -> <syft.ast.klass.Class object at 0x7f1b6659d6a0>\n",
       "\t.Hardsigmoid -> <syft.ast.klass.Class object at 0x7f1b6659db20>\n",
       "\t.Hardswish -> <syft.ast.klass.Class object at 0x7f1b6659dee0>\n",
       "\t.Hardtanh -> <syft.ast.klass.Class object at 0x7f1b665a12e0>\n",
       "\t.Identity -> <syft.ast.klass.Class object at 0x7f1b665a1760>\n",
       "\t.InstanceNorm1d -> <syft.ast.klass.Class object at 0x7f1b665a1be0>\n",
       "\t.InstanceNorm2d -> <syft.ast.klass.Class object at 0x7f1b665a5220>\n",
       "\t.InstanceNorm3d -> <syft.ast.klass.Class object at 0x7f1b665a5820>\n",
       "\t.LPPool1d -> <syft.ast.klass.Class object at 0x7f1b665a5e20>\n",
       "\t.LPPool2d -> <syft.ast.klass.Class object at 0x7f1b665a82e0>\n",
       "\t.LSTM -> <syft.ast.klass.Class object at 0x7f1b665a8760>\n",
       "\t.LSTMCell -> <syft.ast.klass.Class object at 0x7f1b665a8b80>\n",
       "\t.LayerNorm -> <syft.ast.klass.Class object at 0x7f1b665ae040>\n",
       "\t.LeakyReLU -> <syft.ast.klass.Class object at 0x7f1b665ae4c0>\n",
       "\t.LocalResponseNorm -> <syft.ast.klass.Class object at 0x7f1b665ae940>\n",
       "\t.LogSigmoid -> <syft.ast.klass.Class object at 0x7f1b665aefa0>\n",
       "\t.LogSoftmax -> <syft.ast.klass.Class object at 0x7f1b665b1460>\n",
       "\t.MaxPool1d -> <syft.ast.klass.Class object at 0x7f1b665b18e0>\n",
       "\t.MaxPool2d -> <syft.ast.klass.Class object at 0x7f1b665b1d60>\n",
       "\t.MaxPool3d -> <syft.ast.klass.Class object at 0x7f1b665b4220>\n",
       "\t.MaxUnpool1d -> <syft.ast.klass.Class object at 0x7f1b665b46a0>\n",
       "\t.MaxUnpool2d -> <syft.ast.klass.Class object at 0x7f1b665b4b20>\n",
       "\t.MaxUnpool3d -> <syft.ast.klass.Class object at 0x7f1b665b4fa0>\n",
       "\t.ModuleDict -> <syft.ast.klass.Class object at 0x7f1b665b9460>\n",
       "\t.ModuleList -> <syft.ast.klass.Class object at 0x7f1b665b98e0>\n",
       "\t.MultiheadAttention -> <syft.ast.klass.Class object at 0x7f1b665b9e20>\n",
       "\t.PReLU -> <syft.ast.klass.Class object at 0x7f1b665bd520>\n",
       "\t.PairwiseDistance -> <syft.ast.klass.Class object at 0x7f1b665bd940>\n",
       "\t.PixelShuffle -> <syft.ast.klass.Class object at 0x7f1b665bdf40>\n",
       "\t.RNN -> <syft.ast.klass.Class object at 0x7f1b6653f520>\n",
       "\t.RNNBase -> <syft.ast.klass.Class object at 0x7f1b6653f8e0>\n",
       "\t.RNNCell -> <syft.ast.klass.Class object at 0x7f1b6653fd60>\n",
       "\t.RNNCellBase -> <syft.ast.klass.Class object at 0x7f1b66545220>\n",
       "\t.RReLU -> <syft.ast.klass.Class object at 0x7f1b665456a0>\n",
       "\t.ReLU -> <syft.ast.klass.Class object at 0x7f1b66545ac0>\n",
       "\t.ReLU6 -> <syft.ast.klass.Class object at 0x7f1b66545ee0>\n",
       "\t.ReflectionPad1d -> <syft.ast.klass.Class object at 0x7f1b66548340>\n",
       "\t.ReflectionPad2d -> <syft.ast.klass.Class object at 0x7f1b66548940>\n",
       "\t.ReplicationPad1d -> <syft.ast.klass.Class object at 0x7f1b66548f40>\n",
       "\t.ReplicationPad2d -> <syft.ast.klass.Class object at 0x7f1b6654c580>\n",
       "\t.ReplicationPad3d -> <syft.ast.klass.Class object at 0x7f1b6654cb80>\n",
       "\t.SELU -> <syft.ast.klass.Class object at 0x7f1b665501c0>\n",
       "\t.Sigmoid -> <syft.ast.klass.Class object at 0x7f1b66550760>\n",
       "\t.Softmax -> <syft.ast.klass.Class object at 0x7f1b66550be0>\n",
       "\t.Softmax2d -> <syft.ast.klass.Class object at 0x7f1b665530a0>\n",
       "\t.Softmin -> <syft.ast.klass.Class object at 0x7f1b66553520>\n",
       "\t.Softplus -> <syft.ast.klass.Class object at 0x7f1b665539a0>\n",
       "\t.Softshrink -> <syft.ast.klass.Class object at 0x7f1b66553e20>\n",
       "\t.Softsign -> <syft.ast.klass.Class object at 0x7f1b665562e0>\n",
       "\t.SyncBatchNorm -> <syft.ast.klass.Class object at 0x7f1b66556760>\n",
       "\t.Tanh -> <syft.ast.klass.Class object at 0x7f1b66556d00>\n",
       "\t.Tanhshrink -> <syft.ast.klass.Class object at 0x7f1b6655b160>\n",
       "\t.Threshold -> <syft.ast.klass.Class object at 0x7f1b6655b5e0>\n",
       "\t.Transformer -> <syft.ast.klass.Class object at 0x7f1b6655ba60>\n",
       "\t.TransformerDecoder -> <syft.ast.klass.Class object at 0x7f1b6655bee0>\n",
       "\t.TransformerDecoderLayer -> <syft.ast.klass.Class object at 0x7f1b66560640>\n",
       "\t.TransformerEncoder -> <syft.ast.klass.Class object at 0x7f1b66560ca0>\n",
       "\t.TransformerEncoderLayer -> <syft.ast.klass.Class object at 0x7f1b66562400>\n",
       "\t.Unfold -> <syft.ast.klass.Class object at 0x7f1b66562a60>\n",
       "\t.Upsample -> <syft.ast.klass.Class object at 0x7f1b66562e80>\n",
       "\t.UpsamplingBilinear2d -> <syft.ast.klass.Class object at 0x7f1b66565340>\n",
       "\t.UpsamplingNearest2d -> <syft.ast.klass.Class object at 0x7f1b66565a00>\n",
       "\t.ZeroPad2d -> <syft.ast.klass.Class object at 0x7f1b66569160>"
      ]
     },
     "execution_count": 27,
     "metadata": {},
     "output_type": "execute_result"
    }
   ],
   "source": [
    "ds_client.torch"
   ]
  },
  {
   "cell_type": "code",
   "execution_count": 37,
   "id": "04b3073f-da09-4c02-8dd0-17c43000ba34",
   "metadata": {},
   "outputs": [],
   "source": [
    "# class SyNet(torch.nn.Module):\n",
    "#     def __init__(self, torch_ref):\n",
    "#         super(SyNet, self).__init__(torch_ref=torch_ref)\n",
    "#         self.linear = self.torch_ref.nn.Linear(in_dim, out_dim)\n",
    "\n",
    "#     def forward(self, x):\n",
    "#         x = self.linear(x)\n",
    "#         return x\n",
    "\n",
    "class SyNet(torch.nn.Module):\n",
    "    def __init__(self, torch_ref):\n",
    "        super(SyNet, self).__init__(torch_ref=torch_ref)\n",
    "        self.linear = self.torch_ref.nn.Linear(in_dim, out_dim)\n",
    "\n",
    "    def forward(self, x):\n",
    "        x = self.linear(x)\n",
    "        return x\n",
    "\n",
    "\n",
    "    "
   ]
  }
 ],
 "metadata": {
  "kernelspec": {
   "display_name": "Python 3 (ipykernel)",
   "language": "python",
   "name": "python3"
  },
  "language_info": {
   "codemirror_mode": {
    "name": "ipython",
    "version": 3
   },
   "file_extension": ".py",
   "mimetype": "text/x-python",
   "name": "python",
   "nbconvert_exporter": "python",
   "pygments_lexer": "ipython3",
   "version": "3.9.12"
  }
 },
 "nbformat": 4,
 "nbformat_minor": 5
}
