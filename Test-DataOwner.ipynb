{
 "cells": [
  {
   "cell_type": "markdown",
   "id": "46ae11ef-192a-4712-a628-c9d8d2b0923b",
   "metadata": {},
   "source": [
    "# Test notebook for no automated Differential Privacy (DP) data type\n",
    "## Data Owner\n",
    "### syft version: 0.6.0"
   ]
  },
  {
   "cell_type": "code",
   "execution_count": 1,
   "id": "d735dee7-6b0a-4c38-8ff6-65347301a17b",
   "metadata": {},
   "outputs": [
    {
     "name": "stdout",
     "output_type": "stream",
     "text": [
      "0.6.0\n"
     ]
    }
   ],
   "source": [
    "import syft as sy\n",
    "print(sy.__version__)\n",
    "import torch\n",
    "import numpy as np"
   ]
  },
  {
   "cell_type": "markdown",
   "id": "04fedcb5-2a88-441e-9ffe-cdf01e5e75a4",
   "metadata": {},
   "source": [
    "**DO: login into domain node**  \n",
    "After launching a domain node with:  \n",
    "> hagrid launch < node_name > \n",
    "\n",
    "(command in wsl)"
   ]
  },
  {
   "cell_type": "code",
   "execution_count": 2,
   "id": "ef5ed79a-0054-4453-9deb-97a8432e3c39",
   "metadata": {},
   "outputs": [
    {
     "name": "stdout",
     "output_type": "stream",
     "text": [
      "WARNING: CHANGE YOUR USERNAME AND PASSWORD!!! \n",
      "\n",
      "Anyone can login as an admin to your node right now because your password is still the default PySyft username and password!!!\n",
      "\n",
      "Connecting to 192.168.0.77... done! \t Logging into free_node... done!\n"
     ]
    }
   ],
   "source": [
    "domain_client = sy.login(\n",
    "    # url=\"http://96.20.213.92\", → Doesn't work with public IP address right now\n",
    "    url = \"192.168.0.77\", # Local IP address\n",
    "    email=\"info@openmined.org\",\n",
    "    password=\"changethis\",\n",
    "    port=8081\n",
    ")"
   ]
  },
  {
   "cell_type": "markdown",
   "id": "02190e23-f7de-4592-b8ee-68823d9e9ff9",
   "metadata": {},
   "source": [
    "**Create DS user account**"
   ]
  },
  {
   "cell_type": "code",
   "execution_count": 3,
   "id": "f6ad309a-43d6-44cf-8f23-ecbbff5c3bac",
   "metadata": {},
   "outputs": [],
   "source": [
    "data_scientist_details = {\n",
    "    \"name\": \"Shu\",\n",
    "    \"email\": \"shu00.song@gmail.com\",\n",
    "    \"password\": \"1234\",\n",
    "    \"budget\": 9999,\n",
    "}\n",
    "\n",
    "domain_client.users.create(**data_scientist_details)"
   ]
  },
  {
   "cell_type": "markdown",
   "id": "a208e614-79b2-4000-9292-54026fc0862a",
   "metadata": {},
   "source": [
    "**Upload dataset to domain node**"
   ]
  },
  {
   "cell_type": "code",
   "execution_count": 5,
   "id": "d5f22582-41e4-46bb-b768-4835474c91b0",
   "metadata": {},
   "outputs": [
    {
     "name": "stdout",
     "output_type": "stream",
     "text": [
      "tensor([[0, 0, 0, 0],\n",
      "        [1, 1, 1, 1]], dtype=torch.int32)\n"
     ]
    }
   ],
   "source": [
    "raw_data = torch.zeros([2,4], dtype=torch.int32)\n",
    "raw_data[1:] = 1\n",
    "print(raw_data)"
   ]
  },
  {
   "cell_type": "code",
   "execution_count": 6,
   "id": "8e6ce3b4-193a-4878-9fad-66c90a813ed1",
   "metadata": {},
   "outputs": [
    {
     "name": "stdout",
     "output_type": "stream",
     "text": [
      "{'Subject 0': tensor([[0, 0, 0, 0],\n",
      "        [1, 1, 1, 1]], dtype=torch.int32)}\n"
     ]
    }
   ],
   "source": [
    "dataset = {\"Subject 0\": raw_data}\n",
    "print(dataset)"
   ]
  },
  {
   "cell_type": "code",
   "execution_count": 7,
   "id": "a85337c5-f1ce-48da-ab48-60fd7698142e",
   "metadata": {},
   "outputs": [
    {
     "name": "stdout",
     "output_type": "stream",
     "text": [
      "Loading dataset... checking asset types...                                                                                                                                    "
     ]
    },
    {
     "ename": "Exception",
     "evalue": "ERROR: all private assets must be NumPy ndarray.int32 assets with proper Differential Privacy metadata applied.\n\nExample: syft.Tensor(np.ndarray([1,2,3,4]).astype(np.int32)).private()\n\nor\n\nExample: syft.Tensor([1,2,3,4]).private()\n\nand then follow the wizard. 🧙",
     "output_type": "error",
     "traceback": [
      "\u001b[0;31m---------------------------------------------------------------------------\u001b[0m",
      "\u001b[0;31mException\u001b[0m                                 Traceback (most recent call last)",
      "Input \u001b[0;32mIn [7]\u001b[0m, in \u001b[0;36m<cell line: 2>\u001b[0;34m()\u001b[0m\n\u001b[1;32m      1\u001b[0m \u001b[38;5;66;03m# We can't use load_dataset() method on not syft.tensor data type (no autoDP)\u001b[39;00m\n\u001b[0;32m----> 2\u001b[0m \u001b[43mdomain_client\u001b[49m\u001b[38;5;241;43m.\u001b[39;49m\u001b[43mload_dataset\u001b[49m\u001b[43m(\u001b[49m\n\u001b[1;32m      3\u001b[0m \u001b[43m    \u001b[49m\u001b[43mname\u001b[49m\u001b[43m \u001b[49m\u001b[38;5;241;43m=\u001b[39;49m\u001b[43m \u001b[49m\u001b[38;5;124;43m\"\u001b[39;49m\u001b[38;5;124;43mTest dataset\u001b[39;49m\u001b[38;5;124;43m\"\u001b[39;49m\u001b[43m,\u001b[49m\n\u001b[1;32m      4\u001b[0m \u001b[43m    \u001b[49m\u001b[43massets\u001b[49m\u001b[43m \u001b[49m\u001b[38;5;241;43m=\u001b[39;49m\u001b[43m \u001b[49m\u001b[43mdataset\u001b[49m\u001b[43m,\u001b[49m\n\u001b[1;32m      5\u001b[0m \u001b[43m    \u001b[49m\u001b[43mdescription\u001b[49m\u001b[43m \u001b[49m\u001b[38;5;241;43m=\u001b[39;49m\u001b[43m \u001b[49m\u001b[38;5;124;43m\"\u001b[39;49m\u001b[38;5;124;43mThere\u001b[39;49m\u001b[38;5;124;43m'\u001b[39;49m\u001b[38;5;124;43ms a description\u001b[39;49m\u001b[38;5;124;43m\"\u001b[39;49m\u001b[43m)\u001b[49m\n",
      "File \u001b[0;32m~/anaconda3/envs/syft_env2/lib/python3.9/site-packages/syft/core/node/domain/client.py:646\u001b[0m, in \u001b[0;36mDomainClient.load_dataset\u001b[0;34m(self, assets, name, description, skip_checks, **metadata)\u001b[0m\n\u001b[1;32m    641\u001b[0m     \u001b[38;5;28;01mfor\u001b[39;00m asset_name, asset \u001b[38;5;129;01min\u001b[39;00m assets\u001b[38;5;241m.\u001b[39mitems():\n\u001b[1;32m    643\u001b[0m         \u001b[38;5;28;01mif\u001b[39;00m \u001b[38;5;129;01mnot\u001b[39;00m \u001b[38;5;28misinstance\u001b[39m(asset, Tensor) \u001b[38;5;129;01mor\u001b[39;00m \u001b[38;5;129;01mnot\u001b[39;00m \u001b[38;5;28misinstance\u001b[39m(\n\u001b[1;32m    644\u001b[0m             \u001b[38;5;28mgetattr\u001b[39m(asset, \u001b[38;5;124m\"\u001b[39m\u001b[38;5;124mchild\u001b[39m\u001b[38;5;124m\"\u001b[39m, \u001b[38;5;28;01mNone\u001b[39;00m), ADPTensor\n\u001b[1;32m    645\u001b[0m         ):\n\u001b[0;32m--> 646\u001b[0m             \u001b[38;5;28;01mraise\u001b[39;00m \u001b[38;5;167;01mException\u001b[39;00m(\n\u001b[1;32m    647\u001b[0m                 \u001b[38;5;124m\"\u001b[39m\u001b[38;5;124mERROR: all private assets must be NumPy ndarray.int32 assets \u001b[39m\u001b[38;5;124m\"\u001b[39m\n\u001b[1;32m    648\u001b[0m                 \u001b[38;5;241m+\u001b[39m \u001b[38;5;124m\"\u001b[39m\u001b[38;5;124mwith proper Differential Privacy metadata applied.\u001b[39m\u001b[38;5;130;01m\\n\u001b[39;00m\u001b[38;5;124m\"\u001b[39m\n\u001b[1;32m    649\u001b[0m                 \u001b[38;5;241m+\u001b[39m \u001b[38;5;124m\"\u001b[39m\u001b[38;5;130;01m\\n\u001b[39;00m\u001b[38;5;124m\"\u001b[39m\n\u001b[1;32m    650\u001b[0m                 \u001b[38;5;241m+\u001b[39m \u001b[38;5;124m\"\u001b[39m\u001b[38;5;124mExample: syft.Tensor(np.ndarray([1,2,3,4]).astype(np.int32)).private()\u001b[39m\u001b[38;5;130;01m\\n\u001b[39;00m\u001b[38;5;130;01m\\n\u001b[39;00m\u001b[38;5;124m\"\u001b[39m\n\u001b[1;32m    651\u001b[0m                 \u001b[38;5;241m+\u001b[39m \u001b[38;5;124m\"\u001b[39m\u001b[38;5;124mor\u001b[39m\u001b[38;5;130;01m\\n\u001b[39;00m\u001b[38;5;130;01m\\n\u001b[39;00m\u001b[38;5;124m\"\u001b[39m\n\u001b[1;32m    652\u001b[0m                 \u001b[38;5;241m+\u001b[39m \u001b[38;5;124m\"\u001b[39m\u001b[38;5;124mExample: syft.Tensor([1,2,3,4]).private()\u001b[39m\u001b[38;5;130;01m\\n\u001b[39;00m\u001b[38;5;130;01m\\n\u001b[39;00m\u001b[38;5;124m\"\u001b[39m\n\u001b[1;32m    653\u001b[0m                 \u001b[38;5;241m+\u001b[39m \u001b[38;5;124m\"\u001b[39m\u001b[38;5;124mand then follow the wizard. 🧙\u001b[39m\u001b[38;5;124m\"\u001b[39m\n\u001b[1;32m    654\u001b[0m             )\n\u001b[1;32m    655\u001b[0m             \u001b[38;5;66;03m# print(\u001b[39;00m\n\u001b[1;32m    656\u001b[0m             \u001b[38;5;66;03m#     \"\\n\\nWARNING - Non-DP Asset: You just passed in a asset '\"\u001b[39;00m\n\u001b[1;32m    657\u001b[0m             \u001b[38;5;66;03m#     + asset_name\u001b[39;00m\n\u001b[0;32m   (...)\u001b[0m\n\u001b[1;32m    673\u001b[0m             \u001b[38;5;66;03m# if pref == \"n\":\u001b[39;00m\n\u001b[1;32m    674\u001b[0m             \u001b[38;5;66;03m#     raise Exception(\"Dataset loading cancelled.\")\u001b[39;00m\n\u001b[1;32m    676\u001b[0m metadata[\u001b[38;5;124m\"\u001b[39m\u001b[38;5;124mname\u001b[39m\u001b[38;5;124m\"\u001b[39m] \u001b[38;5;241m=\u001b[39m \u001b[38;5;28mbytes\u001b[39m(name, \u001b[38;5;124m\"\u001b[39m\u001b[38;5;124mutf-8\u001b[39m\u001b[38;5;124m\"\u001b[39m)  \u001b[38;5;66;03m# type: ignore\u001b[39;00m\n",
      "\u001b[0;31mException\u001b[0m: ERROR: all private assets must be NumPy ndarray.int32 assets with proper Differential Privacy metadata applied.\n\nExample: syft.Tensor(np.ndarray([1,2,3,4]).astype(np.int32)).private()\n\nor\n\nExample: syft.Tensor([1,2,3,4]).private()\n\nand then follow the wizard. 🧙"
     ]
    }
   ],
   "source": [
    "# We can't use load_dataset() method on not syft.tensor data type (no autoDP)\n",
    "domain_client.load_dataset(\n",
    "    name = \"Test dataset\",\n",
    "    assets = dataset,\n",
    "    description = \"There's a description\") "
   ]
  },
  {
   "cell_type": "code",
   "execution_count": 8,
   "id": "a6fa5bbd-df32-4503-9258-2540a2ccc4f4",
   "metadata": {},
   "outputs": [
    {
     "data": {
      "text/plain": [
       "<TensorPointer -> free_node:a2e30a3b528b4ff898053bf7f6ea84dd>"
      ]
     },
     "execution_count": 8,
     "metadata": {},
     "output_type": "execute_result"
    }
   ],
   "source": [
    "# We can use .send() method to upload not autoDP data to domain node\n",
    "# But we can only load numpy arrays, torch tensors (i.e. not dict)\n",
    "\n",
    "raw_data.send(domain_client, pointable=True)"
   ]
  },
  {
   "cell_type": "code",
   "execution_count": 9,
   "id": "4be046ca-3a16-422f-8ecd-d2a7cda6d52a",
   "metadata": {},
   "outputs": [
    {
     "ename": "AttributeError",
     "evalue": "'dict' object has no attribute 'send'",
     "output_type": "error",
     "traceback": [
      "\u001b[0;31m---------------------------------------------------------------------------\u001b[0m",
      "\u001b[0;31mAttributeError\u001b[0m                            Traceback (most recent call last)",
      "Input \u001b[0;32mIn [9]\u001b[0m, in \u001b[0;36m<cell line: 1>\u001b[0;34m()\u001b[0m\n\u001b[0;32m----> 1\u001b[0m \u001b[43mdataset\u001b[49m\u001b[38;5;241;43m.\u001b[39;49m\u001b[43msend\u001b[49m(domain_client, pointable\u001b[38;5;241m=\u001b[39m\u001b[38;5;28;01mTrue\u001b[39;00m)\n",
      "\u001b[0;31mAttributeError\u001b[0m: 'dict' object has no attribute 'send'"
     ]
    }
   ],
   "source": [
    "dataset.send(domain_client, pointable=True) # Does not work"
   ]
  },
  {
   "cell_type": "code",
   "execution_count": 10,
   "id": "586f0616-d1b4-4a94-9bad-d17aebfda7ad",
   "metadata": {},
   "outputs": [
    {
     "data": {
      "text/html": [
       "<div>\n",
       "<style scoped>\n",
       "    .dataframe tbody tr th:only-of-type {\n",
       "        vertical-align: middle;\n",
       "    }\n",
       "\n",
       "    .dataframe tbody tr th {\n",
       "        vertical-align: top;\n",
       "    }\n",
       "\n",
       "    .dataframe thead th {\n",
       "        text-align: right;\n",
       "    }\n",
       "</style>\n",
       "<table border=\"1\" class=\"dataframe\">\n",
       "  <thead>\n",
       "    <tr style=\"text-align: right;\">\n",
       "      <th></th>\n",
       "      <th>ID</th>\n",
       "      <th>Tags</th>\n",
       "      <th>Description</th>\n",
       "      <th>object_type</th>\n",
       "    </tr>\n",
       "  </thead>\n",
       "  <tbody>\n",
       "    <tr>\n",
       "      <th>0</th>\n",
       "      <td>&lt;UID: a2e30a3b528b4ff898053bf7f6ea84dd&gt;</td>\n",
       "      <td>[]</td>\n",
       "      <td></td>\n",
       "      <td>&lt;class 'torch.Tensor'&gt;</td>\n",
       "    </tr>\n",
       "  </tbody>\n",
       "</table>\n",
       "</div>"
      ],
      "text/plain": [
       "                                        ID Tags Description  \\\n",
       "0  <UID: a2e30a3b528b4ff898053bf7f6ea84dd>   []               \n",
       "\n",
       "              object_type  \n",
       "0  <class 'torch.Tensor'>  "
      ]
     },
     "execution_count": 10,
     "metadata": {},
     "output_type": "execute_result"
    }
   ],
   "source": [
    "# We can check data present on the domain node\n",
    "domain_client.store.pandas"
   ]
  },
  {
   "cell_type": "markdown",
   "id": "51dabc96-9405-45ed-b1d7-690a76c18601",
   "metadata": {},
   "source": [
    "**Handle incoming requests (from DS)**  \n",
    "**- After DS sends a request (go to DS's notebook first)**"
   ]
  },
  {
   "cell_type": "code",
   "execution_count": 11,
   "id": "9029a48f-b494-4a1b-a8c8-20e316c5e24d",
   "metadata": {},
   "outputs": [
    {
     "data": {
      "text/html": [
       "<div>\n",
       "<style scoped>\n",
       "    .dataframe tbody tr th:only-of-type {\n",
       "        vertical-align: middle;\n",
       "    }\n",
       "\n",
       "    .dataframe tbody tr th {\n",
       "        vertical-align: top;\n",
       "    }\n",
       "\n",
       "    .dataframe thead th {\n",
       "        text-align: right;\n",
       "    }\n",
       "</style>\n",
       "<table border=\"1\" class=\"dataframe\">\n",
       "  <thead>\n",
       "    <tr style=\"text-align: right;\">\n",
       "      <th></th>\n",
       "      <th>Name</th>\n",
       "      <th>Email</th>\n",
       "      <th>Role</th>\n",
       "      <th>Request Type</th>\n",
       "      <th>Status</th>\n",
       "      <th>Reason</th>\n",
       "      <th>Request ID</th>\n",
       "      <th>Requested Object's ID</th>\n",
       "      <th>Requested Object's tags</th>\n",
       "      <th>Requested Budget</th>\n",
       "      <th>Current Budget</th>\n",
       "    </tr>\n",
       "  </thead>\n",
       "  <tbody>\n",
       "    <tr>\n",
       "      <th>0</th>\n",
       "      <td>Shu</td>\n",
       "      <td>shu00.song@gmail.com</td>\n",
       "      <td>Data Scientist</td>\n",
       "      <td>DATA</td>\n",
       "      <td>pending</td>\n",
       "      <td>Please approve!</td>\n",
       "      <td>&lt;UID: f92811eecde041b5b0fae436ccbe3972&gt;</td>\n",
       "      <td>&lt;UID: c76bd8358346445c849b2653b8b0fa54&gt;</td>\n",
       "      <td>[]</td>\n",
       "      <td>None</td>\n",
       "      <td>None</td>\n",
       "    </tr>\n",
       "  </tbody>\n",
       "</table>\n",
       "</div>"
      ],
      "text/plain": [
       "[<RequestMessage: f92811eecde041b5b0fae436ccbe3972>]"
      ]
     },
     "execution_count": 11,
     "metadata": {},
     "output_type": "execute_result"
    }
   ],
   "source": [
    "domain_client.requests"
   ]
  },
  {
   "cell_type": "code",
   "execution_count": 12,
   "id": "35e93af0-4909-4586-b4cf-93a0ec43bdb2",
   "metadata": {},
   "outputs": [],
   "source": [
    "domain_client.requests[0].accept()"
   ]
  },
  {
   "cell_type": "code",
   "execution_count": 14,
   "id": "be172357-479b-4569-8383-1b6fe8699c8f",
   "metadata": {},
   "outputs": [],
   "source": [
    "# Request handler: automatically accept or deny requests\n",
    "# Doesn't seem to work, even tho it gives no error?\n",
    "domain_client.requests.add_handler(action=\"accept\")"
   ]
  }
 ],
 "metadata": {
  "kernelspec": {
   "display_name": "Python 3 (ipykernel)",
   "language": "python",
   "name": "python3"
  },
  "language_info": {
   "codemirror_mode": {
    "name": "ipython",
    "version": 3
   },
   "file_extension": ".py",
   "mimetype": "text/x-python",
   "name": "python",
   "nbconvert_exporter": "python",
   "pygments_lexer": "ipython3",
   "version": "3.9.12"
  }
 },
 "nbformat": 4,
 "nbformat_minor": 5
}
